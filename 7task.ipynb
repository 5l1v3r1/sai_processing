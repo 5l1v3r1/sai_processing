{
 "cells": [
  {
   "cell_type": "code",
   "execution_count": 1,
   "metadata": {},
   "outputs": [],
   "source": [
    "from __future__ import print_function\n",
    "from ipywidgets import interact, interactive, fixed, interact_manual\n",
    "import ipywidgets as widgets\n",
    "import numpy as np\n",
    "import matplotlib.pyplot as plt\n",
    "import cv2 as cv"
   ]
  },
  {
   "cell_type": "markdown",
   "metadata": {},
   "source": [
    "<h1>HoughLines</h1>"
   ]
  },
  {
   "cell_type": "code",
   "execution_count": 3,
   "metadata": {},
   "outputs": [
    {
     "data": {
      "application/vnd.jupyter.widget-view+json": {
       "model_id": "b6120f37e40a43828227d714d4312fa1",
       "version_major": 2,
       "version_minor": 0
      },
      "text/plain": [
       "interactive(children=(FloatSlider(value=187.5, description='canny', max=255.0, min=120.0), IntSlider(value=127…"
      ]
     },
     "metadata": {},
     "output_type": "display_data"
    }
   ],
   "source": [
    "src = cv.imread('/Users/kolsha/Pictures/2O_aUamZRZU.jpg')\n",
    "#src = cv.imread('/Users/kolsha/Pictures/GiK31Q8XgQI.jpg')\n",
    "src_gray = cv.cvtColor(src, cv.COLOR_BGR2GRAY)\n",
    "src_canny = None\n",
    "src = cv.cvtColor(src, cv.COLOR_BGR2RGB)\n",
    "\n",
    "\n",
    "@interact_manual(canny=(120.0, 255.0), std_lines=(0, 255), prob_lines=(0, 255))\n",
    "def hough_lines(canny, std_lines, prob_lines):\n",
    "    \n",
    "    src_canny = cv.Canny(src_gray, canny, 150, apertureSize=3)\n",
    "    prob_dst = np.copy(src)\n",
    "    std_dst = np.copy(src)\n",
    "    \n",
    "    lines = cv.HoughLines(src_canny, 1, np.pi / 180, std_lines)\n",
    "    \n",
    "    if lines is not None:\n",
    "        for line in lines:\n",
    "            rho = line[0][0]\n",
    "            theta = line[0][1]\n",
    "            a = np.cos(theta)\n",
    "            b = np.sin(theta)\n",
    "            x0 = a * rho\n",
    "            y0 = b * rho\n",
    "            pt1 = (int(x0 + 1000 * (-b)), int(y0 + 1000 * a))\n",
    "            pt2 = (int(x0 - 1000 * (-b)), int(y0 - 1000 * a))\n",
    "            color = (np.random.randint(255), np.random.randint(255), np.random.randint(255))\n",
    "            #print(color)\n",
    "            cv.line(std_dst, pt1, pt2, color, 2)\n",
    "    \n",
    "    lines = cv.HoughLinesP(src_canny, 1, np.pi / 180, prob_lines, None, 50, 10)\n",
    "    if lines is not None:\n",
    "        for line in lines:\n",
    "            l = line[0]\n",
    "            color = (np.random.randint(255), np.random.randint(255), np.random.randint(255))\n",
    "            cv.line(prob_dst, (l[0], l[1]), (l[2], l[3]), color, 2)\n",
    "    \n",
    "    titles = ['Original Image','Canny','Std lines','Prob lines']\n",
    "    images = [src, src_canny, std_dst, prob_dst]\n",
    "    fig = plt.gcf()\n",
    "    fig.set_size_inches(20, 15.5)\n",
    "    for i in range(len(images)):\n",
    "        plt.subplot(2, 3, i+1),\n",
    "        plt.imshow(images[i])\n",
    "        plt.title(titles[i])\n",
    "        plt.xticks([]),\n",
    "        plt.yticks([])\n",
    "    plt.show()\n",
    "    return (canny, std_lines, prob_lines)\n",
    "    \n",
    "    \n",
    "    \n",
    "    "
   ]
  },
  {
   "cell_type": "code",
   "execution_count": null,
   "metadata": {},
   "outputs": [],
   "source": []
  }
 ],
 "metadata": {
  "kernelspec": {
   "display_name": "Python 3",
   "language": "python",
   "name": "python3"
  },
  "language_info": {
   "codemirror_mode": {
    "name": "ipython",
    "version": 3
   },
   "file_extension": ".py",
   "mimetype": "text/x-python",
   "name": "python",
   "nbconvert_exporter": "python",
   "pygments_lexer": "ipython3",
   "version": "3.7.0"
  }
 },
 "nbformat": 4,
 "nbformat_minor": 2
}

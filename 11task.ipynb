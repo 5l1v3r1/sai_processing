{
 "cells": [
  {
   "cell_type": "code",
   "execution_count": 4,
   "metadata": {},
   "outputs": [],
   "source": [
    "from __future__ import print_function\n",
    "from ipywidgets import interact, interactive, fixed, interact_manual\n",
    "import ipywidgets as widgets\n",
    "import numpy as np\n",
    "import matplotlib.pyplot as plt\n",
    "import cv2 as cv\n",
    "\n",
    "#https://docs.opencv.org/trunk/d8/d83/tutorial_py_grabcut.html\n",
    "\n",
    "#https://www.programcreek.com/python/example/89388/cv2.grabCut\n",
    "#https://github.com/opencv/opencv/blob/master/samples/python/grabcut.py"
   ]
  },
  {
   "cell_type": "code",
   "execution_count": 5,
   "metadata": {},
   "outputs": [
    {
     "data": {
      "application/vnd.jupyter.widget-view+json": {
       "model_id": "22ace49f21584b4fa1d24473e1317123",
       "version_major": 2,
       "version_minor": 0
      },
      "text/plain": [
       "interactive(children=(IntSlider(value=676, description='x1', max=1352), IntSlider(value=624, description='y1',…"
      ]
     },
     "metadata": {},
     "output_type": "display_data"
    }
   ],
   "source": [
    "src = cv.imread('/Users/kolsha/Pictures/lakes.png')\n",
    "src = cv.cvtColor(src, cv.COLOR_BGR2RGB)\n",
    "pt1 = (0, 0)\n",
    "pt2 = (0, 0)\n",
    "\n",
    "# (295, 404, 484, 624) good\n",
    "\n",
    "@interact(x1=(0, src.shape[1]), y1=(0, src.shape[0]),x2=(0, src.shape[1]), y2=(0, src.shape[0]) )\n",
    "def rect_select(x1, y1, x2, y2):\n",
    "    \n",
    "    img = np.copy(src)\n",
    "    global pt1, pt2\n",
    "    pt1, pt2 = (x1, y1), (x2, y2)\n",
    "    \n",
    "    cv.rectangle(img, pt1, pt2, (0, 0, 255), 3)\n",
    "    \n",
    "\n",
    "        \n",
    "    plt.imshow(img)\n",
    "    plt.show()\n",
    "    return (x1, y1, x2, y2)"
   ]
  },
  {
   "cell_type": "code",
   "execution_count": 6,
   "metadata": {},
   "outputs": [
    {
     "name": "stdout",
     "output_type": "stream",
     "text": [
      "(297, 394, 484, 628)\n"
     ]
    },
    {
     "data": {
      "image/png": "[encoded data removed]",
      "text/plain": [
       "<Figure size 432x288 with 2 Axes>"
      ]
     },
     "metadata": {
      "needs_background": "light"
     },
     "output_type": "display_data"
    }
   ],
   "source": [
    "mask = np.zeros(src.shape[:2],np.uint8)\n",
    "bgdModel = np.zeros((1,65),np.float64)\n",
    "fgdModel = np.zeros((1,65),np.float64)\n",
    "rect = pt1 + pt2\n",
    "\n",
    "print(rect)\n",
    "\n",
    "cv.grabCut(src, mask,rect,bgdModel,fgdModel,5,cv.GC_INIT_WITH_RECT)\n",
    "mask2 = np.where((mask==2)|(mask==0),0,1).astype('uint8')\n",
    "\n",
    "img = np.copy(src)\n",
    "img = img*mask2[:,:,np.newaxis]\n",
    "plt.imshow(img)\n",
    "plt.colorbar()\n",
    "plt.show()"
   ]
  },
  {
   "cell_type": "code",
   "execution_count": 3,
   "metadata": {},
   "outputs": [
    {
     "data": {
      "application/vnd.jupyter.widget-view+json": {
       "model_id": "b6ae954cd83f4b2980e196b6ba09f5f3",
       "version_major": 2,
       "version_minor": 0
      },
      "text/plain": [
       "interactive(children=(Dropdown(description='img_set', options=('bike', 'bike_1', 'nsu', 'lakes'), value='bike'…"
      ]
     },
     "metadata": {},
     "output_type": "display_data"
    }
   ],
   "source": [
    "@interact_manual(img_set=['bike','bike_1', 'nsu', 'lakes'], iters=(1, 15))\n",
    "def mask_select(img_set, iters):\n",
    "    \n",
    "    img = cv.imread('/Users/kolsha/Documents/Projects/Python/sai_processing/grabCut/' + img_set + '.jpg')\n",
    "    img = cv.cvtColor(img, cv.COLOR_BGR2RGB)\n",
    "    \n",
    "    mask = np.zeros(img.shape[:2],np.uint8)\n",
    "    bgdModel = np.zeros((1,65),np.float64)\n",
    "    fgdModel = np.zeros((1,65),np.float64)\n",
    "    \n",
    "    newmask = cv.imread('/Users/kolsha/Documents/Projects/Python/sai_processing/grabCut/' + img_set + '_mask.jpg',0)\n",
    "\n",
    "    mask[newmask <= 1] = cv.GC_PR_BGD\n",
    "    mask[newmask > 1] = cv.GC_PR_FGD | cv.GC_FGD\n",
    "    \n",
    "    mask = cv.blur(mask, (3, 3))\n",
    "    \n",
    "    print(img.shape, mask.shape)\n",
    "    \n",
    "    plt.figure(figsize = (20,20))\n",
    "    plt.imshow(mask, aspect='auto')\n",
    "    plt.title('Mask'), plt.xticks([]), plt.yticks([])\n",
    "    \n",
    "    mask2 = np.copy(mask)\n",
    "    _, bgdModel, fgdModel = cv.grabCut(img,mask,None,bgdModel,fgdModel, iters,cv.GC_INIT_WITH_MASK)\n",
    "    \n",
    "    \n",
    "    mask = np.where((mask==cv.GC_PR_FGD)|(mask==cv.GC_FGD)|(mask2==cv.GC_PR_FGD),1,0).astype('uint8')\n",
    "    \n",
    "    mask = cv.blur(mask, (3, 3))\n",
    "    \n",
    "    #print(mask2.shape, mask.shape)\n",
    "    \n",
    "    #mask = mask + mask2[mask2 == cv.GC_PR_FGD]\n",
    "    \n",
    "    plt.figure(figsize = (20,20))\n",
    "    plt.imshow(mask, cmap = 'gray', aspect='auto')\n",
    "    plt.title('Mask after'), plt.xticks([]), plt.yticks([])\n",
    "    \n",
    "    \n",
    "    img_grubbed = np.copy(img)\n",
    "    img_grubbed = img_grubbed * mask[:,:,np.newaxis]\n",
    "    #plt.imshow(mask)\n",
    "    plt.figure(figsize = (20,20))\n",
    "    plt.imshow(img_grubbed, aspect='auto')\n",
    "    plt.title('Result'), plt.xticks([]), plt.yticks([])\n",
    "    plt.show()\n",
    "    \n",
    "    \n",
    "    plt.figure(figsize = (20,20))\n",
    "    plt.imshow(img, aspect='auto')\n",
    "    plt.title('Origin'), plt.xticks([]), plt.yticks([])\n",
    "    plt.show()\n",
    "    return (img_set)"
   ]
  },
  {
   "cell_type": "code",
   "execution_count": null,
   "metadata": {},
   "outputs": [],
   "source": []
  }
 ],
 "metadata": {
  "kernelspec": {
   "display_name": "Python 3",
   "language": "python",
   "name": "python3"
  },
  "language_info": {
   "codemirror_mode": {
    "name": "ipython",
    "version": 3
   },
   "file_extension": ".py",
   "mimetype": "text/x-python",
   "name": "python",
   "nbconvert_exporter": "python",
   "pygments_lexer": "ipython3",
   "version": "3.7.0"
  }
 },
 "nbformat": 4,
 "nbformat_minor": 2
}

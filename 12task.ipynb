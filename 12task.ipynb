{
 "cells": [
  {
   "cell_type": "code",
   "execution_count": 2,
   "metadata": {},
   "outputs": [],
   "source": [
    "from __future__ import print_function\n",
    "from ipywidgets import interact, interactive, fixed, interact_manual\n",
    "import ipywidgets as widgets\n",
    "import numpy as np\n",
    "import matplotlib.pyplot as plt\n",
    "import cv2 as cv\n",
    "\n",
    "#Notch filter\n"
   ]
  },
  {
   "cell_type": "markdown",
   "metadata": {},
   "source": [
    "<h1>FFT Harmonic</h1>"
   ]
  },
  {
   "cell_type": "code",
   "execution_count": 163,
   "metadata": {},
   "outputs": [
    {
     "data": {
      "application/vnd.jupyter.widget-view+json": {
       "model_id": "760973ca73ee48df9d3caa3be668b80f",
       "version_major": 2,
       "version_minor": 0
      },
      "text/plain": [
       "interactive(children=(FloatSlider(value=50000000.0, description='f1', max=100000000.0), FloatSlider(value=5000…"
      ]
     },
     "metadata": {},
     "output_type": "display_data"
    }
   ],
   "source": [
    "def get_vertical_sin_image(img, A, amp, pha):\n",
    "    \"\"\"\n",
    "    Get horizontal sine image for compensation.\n",
    "    Faster than get_sine_img().\n",
    "    \"\"\"\n",
    "    h, w = img.shape[:2]\n",
    "    tmp = range(h)\n",
    "    # create sine wave in 1 col\n",
    "    tmp = np.array(range(h), np.float64)\n",
    "    tmp = np.multiply(\n",
    "        np.add(np.sin(np.add(np.multiply(tmp, A), pha)), 1), amp)\n",
    "    tmp = tmp.tolist()\n",
    "    sinimg = np.float32(np.array([tmp] * w)).transpose()\n",
    "\n",
    "    return sinimg\n",
    "\n",
    "@interact(f1=(0, 1e8), f2=(0, 1e8))\n",
    "def notch_test(f1, f2):\n",
    "\n",
    "    img = cv.imread('/Users/kolsha/Pictures/Kawasaki 250/Vv8igxLTBqI.jpg',0)\n",
    "\n",
    "    rows, cols = img.shape\n",
    "    crow, ccol = int(rows/2) , int(cols/2)     # center\n",
    "\n",
    "    img_float32 = np.float32(img)\n",
    "\n",
    "    #omega = 10000\n",
    "\n",
    "    sin_v = get_vertical_sin_image(img, f1, 550, np.pi/2)\n",
    "\n",
    "    sin_h = get_vertical_sin_image(img, f2, 550, np.pi/2)\n",
    "\n",
    "    M = cv.getRotationMatrix2D((ccol,crow),90,2)\n",
    "    sin_h = cv.warpAffine(sin_h,M,(cols,rows))\n",
    "\n",
    "    img = img + sin_h + sin_v\n",
    "\n",
    "\n",
    "    #sin = np.float32(sin)\n",
    "\n",
    "    dft = cv.dft(img, flags = cv.DFT_COMPLEX_OUTPUT)\n",
    "    dft_shift = dft \n",
    "    dft_shift = np.fft.fftshift(dft_shift)\n",
    "\n",
    "    sin_v_dft = cv.dft(sin_v, flags = cv.DFT_COMPLEX_OUTPUT)\n",
    "    sin_v_dft = np.fft.fftshift(sin_v_dft)\n",
    "\n",
    "    sin_h_dft = cv.dft(sin_h, flags = cv.DFT_COMPLEX_OUTPUT)\n",
    "    sin_h_dft = np.fft.fftshift(sin_h_dft)\n",
    "\n",
    "\n",
    "\n",
    "\n",
    "\n",
    "\n",
    "    # create a mask first, center square is 1, remaining all zeros\n",
    "    mask = np.zeros((rows, cols, 2), np.uint8)\n",
    "    #mask[crow-30:crow+30, ccol-30:ccol+30] = 1\n",
    "    mask[:,:] = 1\n",
    "\n",
    "    sin_h_dft = np.abs(sin_h_dft)\n",
    "\n",
    "    sin_v_dft = np.abs(sin_v_dft)\n",
    "\n",
    "    print(sin_h_dft.min())\n",
    "    mask[sin_h_dft >= omega] = 0\n",
    "\n",
    "    mask[sin_v_dft >= omega] = 0\n",
    "\n",
    "\n",
    "\n",
    "\n",
    "\n",
    "    # apply mask and inverse DFT\n",
    "    fshift = dft_shift * mask\n",
    "\n",
    "    #print(dft_shift.dtype, )\n",
    "\n",
    "    #fshift = cv.mulSpectrums(dft_shift, sin_h_dft, flags=cv.DFT_ROWS)\n",
    "\n",
    "    f_ishift = fshift\n",
    "\n",
    "    f_ishift = np.fft.ifftshift(fshift)\n",
    "\n",
    "    img_back = cv.idft(f_ishift, flags = cv.DFT_REAL_OUTPUT)\n",
    "\n",
    "    #img_back = np.abs(img_back)\n",
    "\n",
    "\n",
    "    #plt.subplot(121)\n",
    "    plt.figure(figsize = (20,20))\n",
    "    plt.imshow(img, cmap = 'gray', aspect='auto')\n",
    "    plt.title('Input Image')\n",
    "    plt.xticks([]), plt.yticks([])\n",
    "\n",
    "    #plt.subplot(122)\n",
    "    plt.figure(figsize = (20,20))\n",
    "    plt.imshow(img_back, cmap = 'gray', aspect='auto')\n",
    "    plt.title('Magnitude Spectrum'), plt.xticks([]), plt.yticks([])\n",
    "\n",
    "    plt.show()\n",
    "    return(f1, f2)"
   ]
  },
  {
   "cell_type": "code",
   "execution_count": null,
   "metadata": {},
   "outputs": [],
   "source": []
  }
 ],
 "metadata": {
  "kernelspec": {
   "display_name": "Python 3",
   "language": "python",
   "name": "python3"
  },
  "language_info": {
   "codemirror_mode": {
    "name": "ipython",
    "version": 3
   },
   "file_extension": ".py",
   "mimetype": "text/x-python",
   "name": "python",
   "nbconvert_exporter": "python",
   "pygments_lexer": "ipython3",
   "version": "3.7.0"
  }
 },
 "nbformat": 4,
 "nbformat_minor": 2
}

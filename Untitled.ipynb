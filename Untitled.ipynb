{
 "cells": [
  {
   "cell_type": "code",
   "execution_count": null,
   "metadata": {},
   "outputs": [],
   "source": [
    "import numpy as np\n",
    "import cv2\n",
    "\n",
    "import matplotlib\n",
    "\n",
    "# Load an color image in grayscale\n",
    "image = cv2.imread('/Users/kolsha/Pictures/LJqnAmEmPtg.jpg')\n",
    "#print img.size#[0,0].sum()/3\n",
    "\n",
    "output = image.copy()\n",
    "\n",
    "\n",
    "cv2.circle(output, (480, 390), 80, (0, 255, 0), 4)\n",
    "cv2.rectangle(output, (430, 350), (530, 440), (0, 128, 255), -1)\n",
    "\n",
    "matplotlib.imshow(image)\n"
   ]
  }
 ],
 "metadata": {
  "kernelspec": {
   "display_name": "Python 3",
   "language": "python",
   "name": "python3"
  },
  "language_info": {
   "codemirror_mode": {
    "name": "ipython",
    "version": 3
   },
   "file_extension": ".py",
   "mimetype": "text/x-python",
   "name": "python",
   "nbconvert_exporter": "python",
   "pygments_lexer": "ipython3",
   "version": "3.7.0"
  }
 },
 "nbformat": 4,
 "nbformat_minor": 2
}

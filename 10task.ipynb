{
 "cells": [
  {
   "cell_type": "code",
   "execution_count": 1,
   "metadata": {},
   "outputs": [],
   "source": [
    "from __future__ import print_function\n",
    "from ipywidgets import interact, interactive, fixed, interact_manual\n",
    "import ipywidgets as widgets\n",
    "import numpy as np\n",
    "import matplotlib.pyplot as plt\n",
    "import cv2 as cv"
   ]
  },
  {
   "cell_type": "markdown",
   "metadata": {},
   "source": [
    "<h1>Segmentation</h1>"
   ]
  },
  {
   "cell_type": "code",
   "execution_count": 2,
   "metadata": {},
   "outputs": [
    {
     "data": {
      "application/vnd.jupyter.widget-view+json": {
       "model_id": "6944aec99a9d4fe389911e6a7fe539bf",
       "version_major": 2,
       "version_minor": 0
      },
      "text/plain": [
       "interactive(children=(FloatSlider(value=0.4901, description='dist', max=1.0, min=0.0001, step=0.01), Output())…"
      ]
     },
     "metadata": {},
     "output_type": "display_data"
    }
   ],
   "source": [
    "#src = cv.imread('/Users/kolsha/Pictures/water_coins.jpg')\n",
    "src = cv.imread('/Users/kolsha/Pictures/i_m_pumpkin_rick__stencil_by_batnamz-dbrxwip.png')\n",
    "\n",
    "src_gray = cv.cvtColor(src, cv.COLOR_BGR2GRAY)\n",
    "src_gray = cv.medianBlur(src_gray, 5)\n",
    "src = cv.cvtColor(src, cv.COLOR_BGR2RGB)\n",
    "\n",
    "\n",
    "\n",
    "\n",
    "\n",
    "@interact(dist=(0.0001, 1.0, 0.01))\n",
    "def segmentation(dist):\n",
    "    \n",
    "    img = np.copy(src)\n",
    "    ret, thresh = cv.threshold(src_gray,0,255, cv.THRESH_BINARY_INV + cv.THRESH_OTSU)\n",
    "\n",
    "    # noise removal\n",
    "    kernel = np.ones((3,3),np.uint8)\n",
    "    opening = cv.morphologyEx(thresh, cv.MORPH_OPEN, kernel, iterations = 10)\n",
    "    # sure background area\n",
    "    sure_bg = cv.dilate(opening,kernel,iterations=13)\n",
    "    # Finding sure foreground area\n",
    "    dist_transform = cv.distanceTransform(opening,cv.DIST_L2, 5)\n",
    "    ret, sure_fg = cv.threshold(dist_transform, dist * dist_transform.max(), 255, 0)\n",
    "    # Finding unknown region\n",
    "    sure_fg = np.uint8(sure_fg)\n",
    "    unknown = cv.subtract(sure_bg,sure_fg)\n",
    "\n",
    "    # Marker labelling\n",
    "    ret, markers = cv.connectedComponents(sure_fg)\n",
    "    # Add one to all labels so that sure background is not 0, but 1\n",
    "    markers = markers + 1\n",
    "    # Now, mark the region of unknown with zero\n",
    "    markers[unknown == 255] = 0 #unknown == 255\n",
    "\n",
    "    markers = cv.watershed(img, markers)\n",
    "    #img[markers == -1] = [255,0,0]\n",
    "    \n",
    "    markers_gray = np.array(markers - markers.min()).astype(src_gray.dtype)\n",
    "\n",
    "    \n",
    "    _, contoursT, hierarchyT = cv.findContours(markers_gray, cv.RETR_CCOMP, cv.CHAIN_APPROX_TC89_KCOS)\n",
    "    \n",
    "    cv.drawContours(img, contoursT, -1, (0,255,0), 2, hierarchy=hierarchyT)\n",
    "    \n",
    "    titles = ['Src', 'Markers', 'Result']#['Original Image', 'Tpl', 'C Image', 'C Tpl']\n",
    "    images = [src, markers_gray, img]#[src, tpl, dst_src, dst_tpl]\n",
    "    fig = plt.gcf()\n",
    "    fig.set_size_inches(20, 15.5)\n",
    "    for i in range(len(images)):\n",
    "        plt.subplot(2, 3, i+1),\n",
    "        plt.imshow(images[i])\n",
    "        plt.title(titles[i])\n",
    "        plt.xticks([]),\n",
    "        plt.yticks([])\n",
    "    plt.show()\n",
    "    return (dist)\n",
    "    \n",
    "    \n",
    "    \n",
    "    "
   ]
  },
  {
   "cell_type": "code",
   "execution_count": null,
   "metadata": {},
   "outputs": [],
   "source": []
  }
 ],
 "metadata": {
  "kernelspec": {
   "display_name": "Python 3",
   "language": "python",
   "name": "python3"
  },
  "language_info": {
   "codemirror_mode": {
    "name": "ipython",
    "version": 3
   },
   "file_extension": ".py",
   "mimetype": "text/x-python",
   "name": "python",
   "nbconvert_exporter": "python",
   "pygments_lexer": "ipython3",
   "version": "3.7.0"
  }
 },
 "nbformat": 4,
 "nbformat_minor": 2
}

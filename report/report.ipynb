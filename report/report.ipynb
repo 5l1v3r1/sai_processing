{
 "cells": [
  {
   "cell_type": "markdown",
   "metadata": {},
   "source": [
    "# Традиционный Марквардт-Левенберг"
   ]
  },
  {
   "cell_type": "markdown",
   "metadata": {},
   "source": [
    "<img src=\"imgs/ml_dep.png\" width=\"650\" height=\"220\" />"
   ]
  },
  {
   "cell_type": "markdown",
   "metadata": {},
   "source": [
    "## Определения:\n",
    "### $ F = F(x) \\text{ -  наша целевая функция. Её мы будем минимизировать. }\\\\\n",
    "\\triangledown f(x) \\text{ -  градиент функции } f \\text{ в точке } x \\text{ .} \\\\\n",
    "x^* - x, \\text{ при котором } F(x^*) \\text{ является локальным минимумом.} \\\\\n",
    "J_f=J_f(x) = J \\text{— матрица Якоби для функции } f: R^n \\to R^m \\text{ в точке } x \\text{. Т.е. это таблица всех частных производных первого порядка.} \\\\\n",
    "H_f = H_f(x) = H \\text{— матрица Гессе (матрица вторых производных).}  $"
   ]
  },
  {
   "cell_type": "markdown",
   "metadata": {},
   "source": [
    "## Метод наискорейшего спуска(Steepest Descent)\n",
    "### $ \\text{Принимаем } F(x)=f(x) \\text{, т.е. целевая функция совпадает с заданной.} \\\\\n",
    "\\text{Нужно найти } d_{нс}(x) \\text{ — направление наискорейшего спуска функции } f \\text{ в точке } x. \\\\\n",
    "f(x) \\text{ может быть линейно аппроксимирована в точке } x: \\\\\n",
    "f(x+d) \\approx f(x) + \\nabla f(x)^Td, \\ d \\in R^n , ||d|| \\to 0 \\\\\n",
    "\\lim_{d \\to 0}f(x)-f(x+d) = - \\nabla f(x)^Td  \\stackrel{(3.a)} = - || \\nabla f(x)^T|| \\ ||d|| cos \\theta $"
   ]
  },
  {
   "cell_type": "markdown",
   "metadata": {},
   "source": [
    "### $ \\text{Получаем, что направление равно: } d_{нс} =  -\\alpha \\nabla f(x)^T,  0 < \\alpha < 1 $"
   ]
  },
  {
   "cell_type": "markdown",
   "metadata": {},
   "source": [
    "## Метод Ньютона\n",
    "### $ \\text{Рассмотрим для } f(x): R \\to R \\\\\n",
    "\\text{Принимаем } F(x)=f(x) \\text{, т.е. целевая функция совпадает с заданной.} \\\\\n",
    "\\text{Разлагаем } f(x) \\text{ в ряд Тейлора, только в отличии от МНС нам нужно квадратичное приближение:} \\\\\n",
    "f(x+d) \\approx f(x) + f^{'}(x)d + \\frac{1}{2} f^{''}(x)d^2, \\ d \\in R^n , ||d|| \\to 0$\n",
    "\n",
    "### $ \\text{Несложно показать, что если } f{'}(x) \\ne 0 \\text{, то функция не может иметь экстремум в } x \\text{. Точка } x^* \\text{ в которой } f{'}(x) = 0 \\text{ называется стационарной.} $\n",
    "\n",
    "### $ \\text{Продифференцируем обе части по }d \\text{. Наша цель, чтобы } f(x+d)^{'}=0 \\text{, поэтому решаем уравнение:} \\\\\n",
    "0 = f(x+d)^{'} = f^{'}(x) + f^{''}(x)d  \\\\\n",
    "d_{н}=- \\frac{f^{'}(x)}{f^{''}(x)} \\\\\n",
    "d_{н} \\text{ — это направление экстремума, но оно может быть как максимумом, так и минимумом.} \\\\\n",
    "\\text{Чтобы узнать — является ли точка } x+d_{н} \\text{ минимумом — нужно проанализировать вторую производную.} \\\\\n",
    "\\text{Если }  f^{''}(x) > 0 \\text{, то } f(x+d_{н}) \\text{ является локальным минимумом, иначе — максимумом.}  $\n",
    "\n",
    "### $ \\text{В многомерном случае первая производная заменяется на градиент, вторая — на матрицу Гессе.} \\\\\n",
    "\\text{Делить матрицы нельзя, вместо этого умножают на обратную: } \\\\\n",
    "f(x): R^n \\to R \\\\\n",
    "H(x)d_{н}=- \\nabla f(x)\\\\\n",
    "d_{н}=- H^{-1}(x)\\nabla f(x) $"
   ]
  },
  {
   "cell_type": "markdown",
   "metadata": {},
   "source": [
    "## Метод Гаусса-Ньютона\n",
    "### $ \\text{Если задано } m \\text{  функций } r = (r_1, …, r_m) \\text{ от } n \\text{ переменных } \\beta =(\\beta_1, …, \\beta_n) \\text{, при } m≥n. \\\\\n",
    "\\text{Алгоритм Гаусса — Ньютона итеративно находит значения переменных,} \\\\\n",
    "\\text{которые минимизируют сумму квадратов. } \\\\\n",
    "S \\boldsymbol (\\beta)= \\sum_{i=1}^m r_i^2(\\boldsymbol \\beta).$\n",
    "\n",
    "### $ \\text{Начав с некоторого начального приближения } \\boldsymbol \\beta^{(0)} \\text{, метод осуществляет итерации} \\\\\n",
    "\\boldsymbol \\beta^{(s+1)} = \\boldsymbol \\beta^{(s)} - \\left(\\mathbf{J_r}^\\mathsf{T} \\mathbf{J_r} \\right)^{-1} \\mathbf{ J_r} ^\\mathsf{T} \\mathbf{r}(\\boldsymbol \\beta^{(s)}) $\n",
    "\n",
    "\n",
    "### $ \\text{При аппроксимации данных, где целью является поиск параметров } \\beta \\text{, таких, что заданная модель функций } \\\\\n",
    "y=f(x, \\beta) \\text{ наилучшим образом приближает точки данных } (x_i, y_i),\\\\\n",
    "\\text{функции } r_i \\text{ являются остаточными ошибками} \\\\\n",
    "r_i(\\boldsymbol \\beta)= y_i - f(x_i, \\boldsymbol \\beta). \\\\\n",
    "\\text{ Тогда метод Гаусса — Ньютона можно выразить в терминах якобиана } J_f \\text{ функции } f \\\\\n",
    "\\boldsymbol \\beta^{(s+1)} = \\boldsymbol \\beta^{(s)} - \\left(\\mathbf{J_f}^\\mathsf{T} \\mathbf{J_f} \\right)^{-1} \\mathbf{ J_f} ^\\mathsf{T}\\mathbf{r}(\\boldsymbol \\beta^{(s)}). $"
   ]
  },
  {
   "cell_type": "markdown",
   "metadata": {},
   "source": [
    "# Алгоритм Левенберга — Марквардта\n"
   ]
  },
  {
   "cell_type": "code",
   "execution_count": 1,
   "metadata": {},
   "outputs": [],
   "source": [
    "from __future__ import print_function\n",
    "from ipywidgets import interact, interactive, fixed, interact_manual\n",
    "import ipywidgets as widgets\n",
    "import numpy as np\n",
    "import matplotlib.pyplot as plt\n",
    "import cv2 as cv\n",
    "from IPython.display import HTML\n",
    "from IPython.display import Javascript\n",
    "\n",
    "# https://docs.opencv.org/trunk/da/d54/group__imgproc__transform.html\n",
    "\n",
    "# https://docs.opencv.org/trunk/d4/d35/samples_2cpp_2polar_transforms_8cpp-example.html#a16\n",
    "\n",
    "# https://python-forum.io/Thread-Image-conversion-form-cartesian-to-polar-and-back-to-cartesian\n",
    "\n",
    "#https://en.wikibooks.org/wiki/LaTeX/Mathematics"
   ]
  },
  {
   "cell_type": "markdown",
   "metadata": {},
   "source": [
    "# НАДЕЖНАЯ РЕГИСТРАЦИЯ ИЗОБРАЖЕНИЙ С ИСПОЛЬЗОВАНИЕМ ЛОГ-ПОЛЯРНОГО ПРЕОБРАЗОВАНИЯ"
   ]
  },
  {
   "cell_type": "code",
   "execution_count": 2,
   "metadata": {},
   "outputs": [
    {
     "data": {
      "application/vnd.jupyter.widget-view+json": {
       "model_id": "cc29059c6cc34b36bcaebb078060d1c5",
       "version_major": 2,
       "version_minor": 0
      },
      "text/plain": [
       "interactive(children=(IntSlider(value=0, description='rotate', max=400, min=-400), IntSlider(value=0, descript…"
      ]
     },
     "metadata": {},
     "output_type": "display_data"
    }
   ],
   "source": [
    "src = cv.imread('/Users/kolsha/Pictures/i_m_pumpkin_rick__stencil_by_batnamz-dbrxwip.png')\n",
    "src = cv.cvtColor(src, cv.COLOR_BGR2RGB)\n",
    "\n",
    "rows, cols, ch = src.shape\n",
    "crow, ccol = int(rows/2) , int(cols/2)\n",
    "\n",
    "@interact_manual(rotate=(-ccol, ccol), scale=(-crow, crow))\n",
    "def show_log_polar(rotate, scale):\n",
    "         # center\n",
    "    M = 121.0\n",
    "    \n",
    "    rotate *=4\n",
    "    scale *=2\n",
    "\n",
    "    #polar_img = cv.logPolar(src, (crow, ccol), M)\n",
    "\n",
    "    img64_float = np.copy(src)#.astype(np.float64)\n",
    "\n",
    "    center = (ccol, crow)\n",
    "\n",
    "    #center = (0, 0)\n",
    "\n",
    "    #M = np.sqrt(((img64_float.shape[0]/2.0)**2.0)+((img64_float.shape[1]/2.0)**2.0)) / 4\n",
    "    print(M, src.shape)\n",
    "\n",
    "    #log_polar_img = cv.logPolar(img64_float, center ,M ,cv.INTER_LINEAR + cv.WARP_FILL_OUTLIERS)\n",
    "    #cv.linearPolar(img64_float,(img64_float.shape[0]/2, img64_float.shape[1]/2),Mvalue,cv.WARP_FILL_OUTLIERS)\n",
    "\n",
    "    #cartisian_image = cv.linearPolar(ploar_image, (img64_float.shape[0]/2, img64_float.shape[1]/2),Mvalue, cv.WARP_INVERSE_MAP)\n",
    "    flags = cv.INTER_LINEAR + cv.WARP_FILL_OUTLIERS + cv.WARP_POLAR_LOG\n",
    "\n",
    "    maxRadius = 1.5 * np.max(center)\n",
    "    #print(maxRadius)\n",
    "    log_polar_img = cv.warpPolar(img64_float, (0,0) ,center, maxRadius, flags)\n",
    "\n",
    "\n",
    "    #log_polar_img = log_polar_img/255\n",
    "\n",
    "    log_polar_img = np.roll(log_polar_img, (rotate, scale), (0, 1))\n",
    "\n",
    "    #cartisian_image  = cv.logPolar(log_polar_img, center, M, cv.WARP_INVERSE_MAP + cv.INTER_LINEAR + cv.WARP_FILL_OUTLIERS)\n",
    "\n",
    "\n",
    "    cartisian_image = cv.warpPolar(log_polar_img, (cols,rows) ,center, maxRadius, flags + cv.WARP_INVERSE_MAP)\n",
    "    \n",
    "    \n",
    "    titles = ['Original Image','Log Polar','Cartisian']\n",
    "    images = [src, log_polar_img, cartisian_image]\n",
    "    fig = plt.gcf()\n",
    "    fig.set_size_inches(20, 15.5)\n",
    "    for i in range(len(images)):\n",
    "        plt.subplot(2, 3, i+1),\n",
    "        plt.imshow(images[i], aspect='auto')\n",
    "        plt.title(titles[i])\n",
    "        plt.xticks([]),\n",
    "        plt.yticks([])\n",
    "    plt.show()"
   ]
  },
  {
   "cell_type": "markdown",
   "metadata": {},
   "source": [
    "# Полярные координаты"
   ]
  },
  {
   "cell_type": "markdown",
   "metadata": {},
   "source": [
    "\n",
    "## $r = \\sqrt{(x-x_c)^2 + (y - y_c)^2}$\n",
    "\n",
    "\n",
    "## $\\varphi = \\tan^{-1} (\\frac{y - y_c}{x-x_c})$"
   ]
  },
  {
   "cell_type": "markdown",
   "metadata": {},
   "source": [
    "# Алгоритм:\n",
    "\n",
    "0. ## Вырезаем центральный регион $I^{'}_1$ из $I_1$\n",
    "\n",
    "0. ## Переводим в лог-полярную ситему $I^{'}_1$ -> $I^{'}_1p$\n",
    "\n",
    "0. ## Для всех позиций $(x,y)$ из второго изображения $(I_2)$: \n",
    "    0. ## Вырезаем регион $I^{'}_2$ из $I_2$\n",
    "    0. ## Переводим в лог-полярную ситему $I^{'}_2$ -> $I^{'}_2p$\n",
    "    \n",
    "    0. ## Считаем кросс-корреляцию $I^{'}_1p$ и $I^{'}_2p$ -> $(dx,dy)$\n",
    "    \n",
    "    0. ## Если корреляция максимальна, сохраняем $(x,y)$ и $(dx,dy)$\n",
    "\n",
    "0. ## Масштабируем на $(dx)$:\n",
    "0. ## Вращаем на $(dy)$:\n",
    "0. ## Сдвигаем в $(x,y)$\n",
    "\n",
    "0. # You're great"
   ]
  },
  {
   "cell_type": "code",
   "execution_count": null,
   "metadata": {},
   "outputs": [],
   "source": []
  },
  {
   "cell_type": "code",
   "execution_count": null,
   "metadata": {},
   "outputs": [],
   "source": []
  },
  {
   "cell_type": "markdown",
   "metadata": {},
   "source": [
    "# Пирамидный подход к субпиксельной регистрации на основе интенсивности"
   ]
  },
  {
   "cell_type": "markdown",
   "metadata": {},
   "source": [
    "# Введение\n",
    "<br/>\n",
    "\n",
    "0. ### Используют неизмененную интенсивность всех пикселей изображения\n",
    "\n",
    "\n",
    "\n",
    "0. ### Используют более высокий порядок интерполяции для минимизации размытия изображения и достижения согласованности в вычислении пространственных производных\n",
    "\n",
    "\n",
    "\n",
    "0. ### Их модель деформации состоит из комбинации полного 3-D аффинного преобразования и дополнительного линейного изменения контраста. Они получают более простые модели, ограничивая аффинное преобразование конкретными подмножествами параметров, реализуя комбинации вращения, трансляции и изометрического масштабирования.\n",
    "\n",
    "\n",
    "0. ### Нелинейный алгоритм оптимизации Марквардта-Левенберга:\n",
    "    0. #### Они ускоряют его выполнение, используя особую структуру своей модели деформации.\n",
    "    0. #### В частности, они переформулируют задачу оптимизации таким образом, чтобы они могли предварительно вычислить большинство терминов, необходимых для построения Гессиана и градиентного критерия, вместо того, чтобы переоценивать их на каждой итерации, как это требуется в традиционном подходе.\n",
    "    0. #### Они включили Марквардта-Левенберга в мультиразрешающую структуру, используя стратегию итерации от грубого до тонкого и распространяя оценки для одного уровня пирамиды разрешения от ее предыдущего уровня."
   ]
  },
  {
   "cell_type": "markdown",
   "metadata": {},
   "source": [
    "# Критерий подобия тестовых данных эталонным\n",
    "\n",
    "## $ \\varepsilon^2 = \\iint_{\\{x\\} \\subset R^{q}} \\mathrm{(f_R(x) - Q_p\\{f_T(x)\\})^2}\\,\\mathrm{d}x  $    (1)                \n",
    "\n",
    "### $ f_R - \\text{исходные данные} \\\\ f_T - \\text{тестовые данные} \\\\ Q_p\\{f\\} - \\text{преобразование осуществляющееся по } \\textbf{p} \\\\ q - \\text{размерность пространства} $\n",
    "\n",
    "### $ \\text{Такой критерий хорошо поддается минимизации по отношению к }\\textbf{p}\\text{ и хорошо понятен.} $\n",
    "\n"
   ]
  },
  {
   "cell_type": "markdown",
   "metadata": {},
   "source": [
    "# Аффинное преобразование"
   ]
  },
  {
   "cell_type": "markdown",
   "metadata": {},
   "source": [
    "### $ Q_p\\{f\\} - \\text{рассмотрим общее аффинное преобразование, параметризованное матрицей  } \\textbf{A} (3\\times3), \\text{вектором трансляции  } \\textbf{b} \\text{  и коэффициентом масштабирования серого уровня  } \\gamma$\n",
    "\n",
    "\n",
    "### Это глобальное преобразование охватывает любую комбинацию изменения контраста, перемещения, поворота вокруг любого центра, перекос, сдвиг и масштабирование."
   ]
  },
  {
   "cell_type": "markdown",
   "metadata": {},
   "source": [
    "### Разложим преобразование с помощью нескольких операторов, а именно оператора трансляции $T_b$, аффинного оператора $A_A$ и оператора контраста $C_\\gamma$."
   ]
  },
  {
   "cell_type": "markdown",
   "metadata": {},
   "source": [
    "### $  \\begin{cases} T_\\mathbf{b}\\{f(\\mathbf{x})\\} = f(\\mathbf{x} + \\mathbf{b}) \\\\ \n",
    "A_\\mathbf{A}\\{f(\\mathbf{x})\\} = f(\\mathbf{Ax}) \\\\ \n",
    "C_\\gamma\\{f(\\mathbf{x})\\} = e^\\gamma f(\\mathbf{x})\n",
    "\\end{cases} $ (2)"
   ]
  },
  {
   "cell_type": "markdown",
   "metadata": {},
   "source": [
    "<img src=\"imgs/table_1.png\" width=\"823\" height=\"498\"/>"
   ]
  },
  {
   "cell_type": "markdown",
   "metadata": {},
   "source": [
    "### Эти операторы подчиняются правилам композиции, приведенным в таблице I. Используя (2) , мы можем выразить наше первое преобразование как:"
   ]
  },
  {
   "cell_type": "markdown",
   "metadata": {},
   "source": [
    "### $ Q_{\\mathbf{b,A},\\gamma}\\{f(\\mathbf{x})\\} = T_\\mathbf{b}\\{ A_\\mathbf{A}\\{ C_\\gamma\\{ f(\\mathbf{x}) \\} \\} \\} \n",
    " = e^\\gamma f(\\mathbf{Ax + b})$ (3)"
   ]
  },
  {
   "cell_type": "markdown",
   "metadata": {},
   "source": [
    "# Гомоморфное преобразование"
   ]
  },
  {
   "cell_type": "markdown",
   "metadata": {},
   "source": [
    "### В качестве альтернативы предлагается второе глобальное преобразование с явным ограничением. Оно может согласовывать изменение контраста, перемещение, вращение, и изометрическое масштабирование, но не искривление."
   ]
  },
  {
   "cell_type": "markdown",
   "metadata": {},
   "source": [
    "### Определим повороты вокруг осей координат с помощью:\n",
    "<img src=\"imgs/rotations.png\" width=\"400\" height=\"400\"/>"
   ]
  },
  {
   "cell_type": "markdown",
   "metadata": {},
   "source": [
    "## $ \\text{Определим оператор вращения как:} \\\\\n",
    "R_{\\phi, \\theta,  \\varphi} \\{ f(\\mathbf{x}) \\} = f(\\mathbf{A_x(\\phi)   A_y(\\theta)   A_z(\\varphi)   \\mathbf{x}})    $"
   ]
  },
  {
   "cell_type": "markdown",
   "metadata": {},
   "source": [
    "## $ \\text{Изотропный оператор масштабирования как:} \\\\\n",
    "S_{k} \\{ f(\\mathbf{x}) \\} = f(e^k\\mathbf{x})    $"
   ]
  },
  {
   "cell_type": "markdown",
   "metadata": {},
   "source": [
    "## $ \\text{Исходя из этого дополним таблицу I: }$\n",
    "<img src=\"imgs/table_2.png\" width=\"823\" height=\"498\" />"
   ]
  },
  {
   "cell_type": "markdown",
   "metadata": {},
   "source": [
    "## $ \\text{Итоговое преобразование:} \\\\\n",
    " Q_{\\mathbf{b},k,\\phi, \\theta,  \\varphi, \\gamma}\\{f(\\mathbf{x})\\} = T_\\mathbf{b}\\{ S_k\\{R_{\\phi, \\theta,  \\varphi} \\{ C_\\gamma\\{ f(\\mathbf{x}) \\} \\} \\} \\} \n",
    " = e^\\gamma f(e^k\\mathbf{R}(\\phi, \\theta,  \\varphi)\\mathbf{x} + \\mathbf{b}) \n",
    "$ (3)\n",
    "\n",
    "\n",
    "### $ \\text{Свойство результирующего преобразования:} \\\\  Q_p\\{ f(\\mathbf{x}) + g(\\mathbf{x})\\} = Q_p\\{ f(\\mathbf{x})\\} + Q_p\\{g(\\mathbf{x})\\} $"
   ]
  },
  {
   "cell_type": "markdown",
   "metadata": {},
   "source": [
    "# Традиционный Марквардт-Левенберг"
   ]
  },
  {
   "cell_type": "markdown",
   "metadata": {},
   "source": [
    "<img src=\"imgs/ml.png\" width=\"413\" height=\"498\" />"
   ]
  },
  {
   "cell_type": "markdown",
   "metadata": {},
   "source": [
    "### $ \\text{На каждом шаге  } f_T \\text{  подвергается преобразованию  } Q_\\mathbf{p} \\text{  перед тем как сравнивается с  } f_R .\\\\\n",
    "\\text{Также вычисляется} \\\\\n",
    "\\mathbf{p}_{t+1} = \\mathbf{p}_{t} + \\delta\\mathbf{p}_{t+1} \\\\\n",
    "\\text{При условии} \\\\\n",
    "\\displaystyle\\sum_{l=1}^{M} \\alpha_{kl} \\delta\\mathbf{p}_{l} = \\beta_k \\\\\n",
    "\\text{Где } [\\alpha_{kl}]_{M \\times M} \\text{  - выводится через матрицу Гессиана из матрицы кривизны.} \\\\\n",
    "[\\beta_k]_{M \\times 1} \\text{  - пропорциональна градиенту остатка.} $"
   ]
  },
  {
   "cell_type": "markdown",
   "metadata": {},
   "source": [
    "## $ \\varepsilon^2 \\cong \\chi^2(\\mathbf{p}) =  \\displaystyle\\frac{1}{N}\\sum_{i=1}^{N} \\mathrm{(f_R(x_i) - Q_p\\{f_T(x_i)\\})^2}  $    (15) \n",
    "\n",
    "### $ N \\text{  - количество пикселей,  } X_i \\text{  - координаты пикселя} $"
   ]
  },
  {
   "cell_type": "code",
   "execution_count": null,
   "metadata": {},
   "outputs": [],
   "source": []
  }
 ],
 "metadata": {
  "kernelspec": {
   "display_name": "Python 3",
   "language": "python",
   "name": "python3"
  },
  "language_info": {
   "codemirror_mode": {
    "name": "ipython",
    "version": 3
   },
   "file_extension": ".py",
   "mimetype": "text/x-python",
   "name": "python",
   "nbconvert_exporter": "python",
   "pygments_lexer": "ipython3",
   "version": "3.7.0"
  }
 },
 "nbformat": 4,
 "nbformat_minor": 2
}

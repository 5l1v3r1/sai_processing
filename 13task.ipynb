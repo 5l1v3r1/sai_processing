{
 "cells": [
  {
   "cell_type": "code",
   "execution_count": 1,
   "metadata": {},
   "outputs": [],
   "source": [
    "from __future__ import print_function\n",
    "from ipywidgets import interact, interactive, fixed, interact_manual\n",
    "import ipywidgets as widgets\n",
    "import numpy as np\n",
    "import matplotlib.pyplot as plt\n",
    "import cv2 as cv"
   ]
  },
  {
   "cell_type": "markdown",
   "metadata": {},
   "source": [
    "<h1>matchTemplate</h1>"
   ]
  },
  {
   "cell_type": "code",
   "execution_count": 2,
   "metadata": {},
   "outputs": [
    {
     "data": {
      "application/vnd.jupyter.widget-view+json": {
       "model_id": "7850ef20fadc4f708f94f2f4c9b589d6",
       "version_major": 2,
       "version_minor": 0
      },
      "text/plain": [
       "interactive(children=(Dropdown(description='method', options=('cv.TM_CCOEFF', 'cv.TM_CCOEFF_NORMED', 'cv.TM_CC…"
      ]
     },
     "metadata": {},
     "output_type": "display_data"
    }
   ],
   "source": [
    "src = cv.imread('/Users/kolsha/Pictures/moments/multiple-blob.png')\n",
    "#src_gray = cv.medianBlur(src_gray, 5)\n",
    "src = cv.cvtColor(src, cv.COLOR_BGR2RGB)\n",
    "\n",
    "\n",
    "methods = ['cv.TM_CCOEFF', 'cv.TM_CCOEFF_NORMED', 'cv.TM_CCORR',\n",
    "            'cv.TM_CCORR_NORMED', 'cv.TM_SQDIFF', 'cv.TM_SQDIFF_NORMED']\n",
    "noises = ['None','gauss', 's&p', 'poisson', 'speckle']\n",
    "\n",
    "def noisy(noise_typ,image):\n",
    "    if noise_typ == \"gauss\":\n",
    "        row,col,ch= image.shape\n",
    "        mean = 0\n",
    "        var = 0.1\n",
    "        sigma = var**0.5\n",
    "        gauss = np.random.normal(mean,sigma,(row,col,ch))\n",
    "        gauss = gauss.reshape(row,col,ch)\n",
    "        noisy = image + gauss\n",
    "        return noisy\n",
    "    elif noise_typ == \"s&p\":\n",
    "        row,col,ch = image.shape\n",
    "        s_vs_p = 0.5\n",
    "        amount = 0.004\n",
    "        out = np.copy(image)\n",
    "        # Salt mode\n",
    "        num_salt = np.ceil(amount * image.size * s_vs_p)\n",
    "        coords = [np.random.randint(0, i - 1, int(num_salt))\n",
    "              for i in image.shape]\n",
    "        out[tuple(coords)] = 1\n",
    "\n",
    "        # Pepper mode\n",
    "        num_pepper = np.ceil(amount* image.size * (1. - s_vs_p))\n",
    "        coords = [np.random.randint(0, i - 1, int(num_pepper))\n",
    "              for i in image.shape]\n",
    "        out[tuple(coords)] = 0\n",
    "        return out\n",
    "    elif noise_typ == \"poisson\":\n",
    "        vals = len(np.unique(image))\n",
    "        vals = 2 ** np.ceil(np.log2(vals))\n",
    "        noisy = np.random.poisson(image * vals) / float(vals)\n",
    "        return noisy\n",
    "    elif noise_typ ==\"speckle\":\n",
    "        row,col,ch = image.shape\n",
    "        gauss = np.random.randn(row,col,ch)\n",
    "        gauss = gauss.reshape(row,col,ch)        \n",
    "        noisy = image + image * gauss\n",
    "        return noisy\n",
    "    \n",
    "    return image\n",
    "\n",
    "\n",
    "\n",
    "@interact(method=methods, image=(1,6), noise=noises, rotate=(0, 360), scale=(0.5, 1.5, 1e-2))\n",
    "def match_tpl(method, image, noise, rotate, scale):\n",
    "    method = eval(method)\n",
    "    tpl = cv.imread('/Users/kolsha/Pictures/moments/'+ str(image) + '.jpg')\n",
    "    \n",
    "    img = src.copy()\n",
    "    \n",
    "    img = noisy(noise, img)\n",
    "    img = img.astype('uint8')\n",
    "    #print(img.shape, img.max())\n",
    "    src_gray = cv.cvtColor(img, cv.COLOR_RGB2GRAY)\n",
    "    \n",
    "    num_rows, num_cols = tpl.shape[:2]\n",
    "\n",
    "    rotation_matrix = cv.getRotationMatrix2D((num_cols/2, num_rows/2), rotate, scale)\n",
    "    tpl = cv.warpAffine(tpl, rotation_matrix, (num_cols, num_rows))\n",
    "    \n",
    "    tpl_gray = cv.cvtColor(tpl, cv.COLOR_BGR2GRAY)\n",
    "    tpl = cv.cvtColor(tpl, cv.COLOR_BGR2RGB)\n",
    "    \n",
    "    res = cv.matchTemplate(src_gray,tpl_gray,method)\n",
    "    min_val, max_val, min_loc, max_loc = cv.minMaxLoc(res)\n",
    "    \n",
    "  \n",
    "    dst_src = np.copy(img)\n",
    "    #dst_tpl = np.copy(tpl)\n",
    "    \n",
    "    if method in [cv.TM_SQDIFF, cv.TM_SQDIFF_NORMED]:\n",
    "        top_left = min_loc\n",
    "    else:\n",
    "        top_left = max_loc\n",
    "    bottom_right = (top_left[0] + num_cols, top_left[1] + num_rows)\n",
    "\n",
    "    cv.rectangle(dst_src,top_left, bottom_right, 255, 2)\n",
    "\n",
    " \n",
    "    \n",
    "    titles = ['C Image', 'C Tpl']#['Original Image', 'Tpl', 'C Image', 'C Tpl']\n",
    "    images = [dst_src, tpl]#[src, tpl, dst_src, dst_tpl]\n",
    "    fig = plt.gcf()\n",
    "    fig.set_size_inches(20, 15.5)\n",
    "    for i in range(len(images)):\n",
    "        plt.subplot(2, 3, i+1),\n",
    "        plt.imshow(images[i])\n",
    "        plt.title(titles[i])\n",
    "        plt.xticks([]),\n",
    "        plt.yticks([])\n",
    "    plt.show()\n",
    "    return (method, image, rotate, scale)\n",
    "    \n",
    "    \n",
    "    \n",
    "    "
   ]
  },
  {
   "cell_type": "code",
   "execution_count": null,
   "metadata": {},
   "outputs": [],
   "source": []
  }
 ],
 "metadata": {
  "kernelspec": {
   "display_name": "Python 3",
   "language": "python",
   "name": "python3"
  },
  "language_info": {
   "codemirror_mode": {
    "name": "ipython",
    "version": 3
   },
   "file_extension": ".py",
   "mimetype": "text/x-python",
   "name": "python",
   "nbconvert_exporter": "python",
   "pygments_lexer": "ipython3",
   "version": "3.7.0"
  }
 },
 "nbformat": 4,
 "nbformat_minor": 2
}

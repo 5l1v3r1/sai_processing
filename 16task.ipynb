{
 "cells": [
  {
   "cell_type": "code",
   "execution_count": 1,
   "metadata": {},
   "outputs": [
    {
     "data": {
      "text/plain": [
       "'поприменять'"
      ]
     },
     "execution_count": 1,
     "metadata": {},
     "output_type": "execute_result"
    }
   ],
   "source": [
    "from __future__ import print_function\n",
    "from ipywidgets import interact, interactive, fixed, interact_manual\n",
    "import ipywidgets as widgets\n",
    "import numpy as np\n",
    "import matplotlib.pyplot as plt\n",
    "import cv2 as cv\n",
    "\n",
    "from IPython import display\n",
    "'''поприменять'''"
   ]
  },
  {
   "cell_type": "markdown",
   "metadata": {},
   "source": [
    "# 16 BackgroundSubtractor"
   ]
  },
  {
   "cell_type": "code",
   "execution_count": 2,
   "metadata": {},
   "outputs": [
    {
     "data": {
      "application/vnd.jupyter.widget-view+json": {
       "model_id": "7728dfdd51584cfcad416c1e2067fec9",
       "version_major": 2,
       "version_minor": 0
      },
      "text/plain": [
       "interactive(children=(Dropdown(description='sub', options=('createBackgroundSubtractorMOG2', 'createBackground…"
      ]
     },
     "metadata": {},
     "output_type": "display_data"
    }
   ],
   "source": [
    "@interact_manual(sub=[\n",
    "                      'createBackgroundSubtractorMOG2',\n",
    "                      'createBackgroundSubtractorKNN',\n",
    "                      'bgsegm.createBackgroundSubtractorGMG',\n",
    "                      \n",
    "                      'bgsegm.createBackgroundSubtractorMOG',\n",
    "                      \n",
    "                      'bgsegm.createBackgroundSubtractorCNT',\n",
    "                      'bgsegm.createBackgroundSubtractorGSOC',\n",
    "                      'bgsegm.createBackgroundSubtractorLSBP'\n",
    "])\n",
    "\n",
    "\n",
    "def bg_sub(sub):\n",
    "    \n",
    "    \n",
    "    cap = cv.VideoCapture('videos/IMG_0864.MOV')\n",
    "    \n",
    "    kernel = cv.getStructuringElement(cv.MORPH_ELLIPSE,(3,3))\n",
    "    fgbg = eval('cv.' + sub + '(300)')\n",
    "    \n",
    "    plt.show()\n",
    "    frame_id = 0\n",
    "    while(1):\n",
    "        ret, frame = cap.read()\n",
    "        if frame is None:\n",
    "            break\n",
    "            \n",
    "        frame_id += 1\n",
    "        \n",
    "        fgmask = fgbg.apply(frame)\n",
    "        fgmask = cv.morphologyEx(fgmask, cv.MORPH_OPEN, kernel)\n",
    "        \n",
    "        frame = cv.cvtColor(frame, cv.COLOR_RGB2GRAY)\n",
    "        #cv.imshow('frame',fgmask)\n",
    "        \n",
    "        img = np.concatenate((frame, fgmask), axis=1)\n",
    "        \n",
    "        if frame_id < 2:\n",
    "            continue\n",
    "        \n",
    "        plt.figure(figsize = (20,10))\n",
    "        plt.title(frame_id)\n",
    "        plt.imshow(img, aspect='auto', cmap = 'gray')\n",
    "        plt.draw()\n",
    "        #plt.pause(0.0001)   \n",
    "        display.display(plt.gcf())\n",
    "        display.clear_output(wait=True)\n",
    "        \n",
    "    cap.release()"
   ]
  },
  {
   "cell_type": "code",
   "execution_count": null,
   "metadata": {},
   "outputs": [],
   "source": []
  }
 ],
 "metadata": {
  "kernelspec": {
   "display_name": "Python 3",
   "language": "python",
   "name": "python3"
  },
  "language_info": {
   "codemirror_mode": {
    "name": "ipython",
    "version": 3
   },
   "file_extension": ".py",
   "mimetype": "text/x-python",
   "name": "python",
   "nbconvert_exporter": "python",
   "pygments_lexer": "ipython3",
   "version": "3.7.0"
  }
 },
 "nbformat": 4,
 "nbformat_minor": 2
}

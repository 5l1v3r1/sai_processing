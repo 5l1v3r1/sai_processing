{
 "cells": [
  {
   "cell_type": "code",
   "execution_count": 1,
   "metadata": {},
   "outputs": [],
   "source": [
    "from __future__ import print_function\n",
    "from ipywidgets import interact, interactive, fixed, interact_manual\n",
    "import ipywidgets as widgets\n",
    "import numpy as np\n",
    "import matplotlib.pyplot as plt\n",
    "import cv2 as cv"
   ]
  },
  {
   "cell_type": "markdown",
   "metadata": {},
   "source": [
    "<h1>Moments</h1>"
   ]
  },
  {
   "cell_type": "code",
   "execution_count": 2,
   "metadata": {},
   "outputs": [
    {
     "data": {
      "application/vnd.jupyter.widget-view+json": {
       "model_id": "b27ae0a831aa4bb1afa8cdbcbea2eb06",
       "version_major": 2,
       "version_minor": 0
      },
      "text/plain": [
       "interactive(children=(FloatSlider(value=137.5, description='canny', max=255.0, min=20.0), IntSlider(value=3, d…"
      ]
     },
     "metadata": {},
     "output_type": "display_data"
    }
   ],
   "source": [
    "src = cv.imread('/Users/kolsha/Pictures/moments/multiple-blob.png')\n",
    "src_gray = cv.cvtColor(src, cv.COLOR_BGR2GRAY)\n",
    "#src_gray = cv.medianBlur(src_gray, 5)\n",
    "src = cv.cvtColor(src, cv.COLOR_BGR2RGB)\n",
    "\n",
    "\n",
    "\n",
    "\n",
    "\n",
    "@interact(canny=(20.0, 255.0), image=(1,6), rotate=(0, 360), scale=(0.5, 1.5))\n",
    "def moments(canny, image, rotate, scale):\n",
    "    \n",
    "    tpl = cv.imread('/Users/kolsha/Pictures/moments/'+ str(image) + '.jpg')\n",
    "    #tpl = cv.resize(tpl, (0,0), fx=0.5, fy=0.5)\n",
    "    \n",
    "    num_rows, num_cols = tpl.shape[:2]\n",
    "\n",
    "    rotation_matrix = cv.getRotationMatrix2D((num_cols/2, num_rows/2), rotate, scale)\n",
    "    tpl = cv.warpAffine(tpl, rotation_matrix, (num_cols, num_rows))\n",
    "    \n",
    "    tpl_gray = cv.cvtColor(tpl, cv.COLOR_BGR2GRAY)\n",
    "    tpl = cv.cvtColor(tpl, cv.COLOR_BGR2RGB)\n",
    "    \n",
    "    src_canny = cv.Canny(src_gray, canny, 250, apertureSize=3)  # binI\n",
    "    tpl_canny = cv.Canny(tpl_gray, canny, 250, apertureSize=3)  # binT\n",
    "    \n",
    "    dst_src = np.copy(src)\n",
    "    dst_tpl = np.copy(tpl)\n",
    "\n",
    "    # находим контуры изображения\n",
    "    _, contoursI, hierarchyI = cv.findContours(src_canny, cv.RETR_LIST, cv.CHAIN_APPROX_SIMPLE)\n",
    "\n",
    "    # находим контуры шаблона\n",
    "    _, contoursT, hierarchyT = cv.findContours(tpl_canny, cv.RETR_LIST, cv.CHAIN_APPROX_SIMPLE)\n",
    "\n",
    "    seqT = 0\n",
    "    perimT = 0\n",
    "    # находим самый длинный контур\n",
    "    for seq0 in range(len(contoursT)):\n",
    "        perim = len(contoursT[seq0])\n",
    "        if perim > perimT:\n",
    "            perimT = perim\n",
    "            seqT = seq0\n",
    "    \n",
    "    color = (np.random.randint(255), np.random.randint(255), np.random.randint(255))\n",
    "    cv.drawContours(dst_tpl, contoursT, seqT, color, 2, cv.LINE_8, hierarchyT, 0)\n",
    "\n",
    "\n",
    "    seqM = 0\n",
    "    matchM = 100.0\n",
    "\n",
    "    # обходим контуры изображения\n",
    "\n",
    "    for seq0 in range(len(contoursI)):\n",
    "        match0 = cv.matchShapes(contoursI[seq0], contoursT[seqT], cv.CONTOURS_MATCH_I3, 0.0)\n",
    "        if match0 <= matchM:\n",
    "            matchM = match0\n",
    "            seqM = seq0\n",
    "    \n",
    "    cv.drawContours(dst_src, contoursI, seqM, color, 2, cv.LINE_8, hierarchyI, 0)\n",
    "    \n",
    "    titles = ['C Image', 'C Tpl']#['Original Image', 'Tpl', 'C Image', 'C Tpl']\n",
    "    images = [dst_src, dst_tpl]#[src, tpl, dst_src, dst_tpl]\n",
    "    fig = plt.gcf()\n",
    "    fig.set_size_inches(20, 15.5)\n",
    "    for i in range(len(images)):\n",
    "        plt.subplot(2, 3, i+1),\n",
    "        plt.imshow(images[i])\n",
    "        plt.title(titles[i])\n",
    "        plt.xticks([]),\n",
    "        plt.yticks([])\n",
    "    plt.show()\n",
    "    return (canny)\n",
    "    \n",
    "    \n",
    "    \n",
    "    "
   ]
  },
  {
   "cell_type": "code",
   "execution_count": null,
   "metadata": {},
   "outputs": [],
   "source": []
  }
 ],
 "metadata": {
  "kernelspec": {
   "display_name": "Python 3",
   "language": "python",
   "name": "python3"
  },
  "language_info": {
   "codemirror_mode": {
    "name": "ipython",
    "version": 3
   },
   "file_extension": ".py",
   "mimetype": "text/x-python",
   "name": "python",
   "nbconvert_exporter": "python",
   "pygments_lexer": "ipython3",
   "version": "3.7.0"
  }
 },
 "nbformat": 4,
 "nbformat_minor": 2
}

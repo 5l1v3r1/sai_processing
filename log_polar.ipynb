{
 "cells": [
  {
   "cell_type": "code",
   "execution_count": 37,
   "metadata": {},
   "outputs": [],
   "source": [
    "from __future__ import print_function\n",
    "from ipywidgets import interact, interactive, fixed, interact_manual\n",
    "import ipywidgets as widgets\n",
    "import numpy as np\n",
    "import matplotlib.pyplot as plt\n",
    "import cv2 as cv\n",
    "from IPython.display import HTML\n",
    "from IPython.display import Javascript\n",
    "\n",
    "# https://docs.opencv.org/trunk/da/d54/group__imgproc__transform.html\n",
    "\n",
    "# https://docs.opencv.org/trunk/d4/d35/samples_2cpp_2polar_transforms_8cpp-example.html#a16\n",
    "\n",
    "# https://python-forum.io/Thread-Image-conversion-form-cartesian-to-polar-and-back-to-cartesian\n",
    "\n",
    "#https://en.wikibooks.org/wiki/LaTeX/Mathematics"
   ]
  },
  {
   "cell_type": "markdown",
   "metadata": {},
   "source": [
    "# НАДЕЖНАЯ РЕГИСТРАЦИЯ ИЗОБРАЖЕНИЙ С ИСПОЛЬЗОВАНИЕМ ЛОГ-ПОЛЯРНОГО ПРЕОБРАЗОВАНИЯ"
   ]
  },
  {
   "cell_type": "code",
   "execution_count": 39,
   "metadata": {},
   "outputs": [
    {
     "data": {
      "application/vnd.jupyter.widget-view+json": {
       "model_id": "48df096d49344449a1ee58ad2ccef882",
       "version_major": 2,
       "version_minor": 0
      },
      "text/plain": [
       "interactive(children=(IntSlider(value=0, description='rotate', max=400, min=-400), IntSlider(value=0, descript…"
      ]
     },
     "metadata": {},
     "output_type": "display_data"
    }
   ],
   "source": [
    "src = cv.imread('/Users/kolsha/Pictures/i_m_pumpkin_rick__stencil_by_batnamz-dbrxwip.png')\n",
    "src = cv.cvtColor(src, cv.COLOR_BGR2RGB)\n",
    "\n",
    "rows, cols, ch = src.shape\n",
    "crow, ccol = int(rows/2) , int(cols/2)\n",
    "\n",
    "@interact_manual(rotate=(-ccol, ccol), scale=(-crow, crow))\n",
    "def show_log_polar(rotate, scale):\n",
    "         # center\n",
    "    M = 121.0\n",
    "    \n",
    "    rotate *=4\n",
    "    scale *=2\n",
    "\n",
    "    #polar_img = cv.logPolar(src, (crow, ccol), M)\n",
    "\n",
    "    img64_float = np.copy(src)#.astype(np.float64)\n",
    "\n",
    "    center = (ccol, crow)\n",
    "\n",
    "    #center = (0, 0)\n",
    "\n",
    "    #M = np.sqrt(((img64_float.shape[0]/2.0)**2.0)+((img64_float.shape[1]/2.0)**2.0)) / 4\n",
    "    print(M, src.shape)\n",
    "\n",
    "    #log_polar_img = cv.logPolar(img64_float, center ,M ,cv.INTER_LINEAR + cv.WARP_FILL_OUTLIERS)\n",
    "    #cv.linearPolar(img64_float,(img64_float.shape[0]/2, img64_float.shape[1]/2),Mvalue,cv.WARP_FILL_OUTLIERS)\n",
    "\n",
    "    #cartisian_image = cv.linearPolar(ploar_image, (img64_float.shape[0]/2, img64_float.shape[1]/2),Mvalue, cv.WARP_INVERSE_MAP)\n",
    "    flags = cv.INTER_LINEAR + cv.WARP_FILL_OUTLIERS + cv.WARP_POLAR_LOG\n",
    "\n",
    "    maxRadius = 1.5 * np.max(center)\n",
    "    #print(maxRadius)\n",
    "    log_polar_img = cv.warpPolar(img64_float, (0,0) ,center, maxRadius, flags)\n",
    "\n",
    "\n",
    "    #log_polar_img = log_polar_img/255\n",
    "\n",
    "    log_polar_img = np.roll(log_polar_img, (rotate, scale), (0, 1))\n",
    "\n",
    "    #cartisian_image  = cv.logPolar(log_polar_img, center, M, cv.WARP_INVERSE_MAP + cv.INTER_LINEAR + cv.WARP_FILL_OUTLIERS)\n",
    "\n",
    "\n",
    "    cartisian_image = cv.warpPolar(log_polar_img, (cols,rows) ,center, maxRadius, flags + cv.WARP_INVERSE_MAP)\n",
    "    \n",
    "    \n",
    "    titles = ['Original Image','Log Polar','Cartisian']\n",
    "    images = [src, log_polar_img, cartisian_image]\n",
    "    fig = plt.gcf()\n",
    "    fig.set_size_inches(20, 15.5)\n",
    "    for i in range(len(images)):\n",
    "        plt.subplot(2, 3, i+1),\n",
    "        plt.imshow(images[i], aspect='auto')\n",
    "        plt.title(titles[i])\n",
    "        plt.xticks([]),\n",
    "        plt.yticks([])\n",
    "    plt.show()"
   ]
  },
  {
   "cell_type": "markdown",
   "metadata": {},
   "source": [
    "# Полярные координаты"
   ]
  },
  {
   "cell_type": "markdown",
   "metadata": {},
   "source": [
    "\n",
    "## $r = \\sqrt{(x-x_c)^2 + (y - y_c)^2}$\n",
    "\n",
    "\n",
    "## $\\varphi = \\tan^{-1} (\\frac{y - y_c}{x-x_c})$"
   ]
  },
  {
   "cell_type": "markdown",
   "metadata": {},
   "source": [
    "### Алгоритм:\n",
    "\n",
    "0. Вырезаем центральный регион $I^{'}_1$ из $I_1$\n",
    "\n",
    "0. Переводим в лог-полярную ситему $I^{'}_1$ -> $I^{'}_1p$\n",
    "\n",
    "0. Для всех позиций $(x,y)$ из второго изображения $(I_2)$: \n",
    "    0. Вырезаем регион $I^{'}_2$ из $I_2$\n",
    "    0. Переводим в лог-полярную ситему $I^{'}_2$ -> $I^{'}_2p$\n",
    "    \n",
    "    0. Считаем кросс-корреляцию $I^{'}_1p$ и $I^{'}_2p$ -> $(dx,dy)$\n",
    "    \n",
    "    0. Если корреляция максимальна, сохраняем $(x,y)$ и $(dx,dy)$\n",
    "\n",
    "0. Масштабируем на $(dx)$:\n",
    "0. Вращаем на $(dy)$:\n",
    "0. Сдвигаем в $(x,y)$\n",
    "\n",
    "0. You're great"
   ]
  }
 ],
 "metadata": {
  "kernelspec": {
   "display_name": "Python 3",
   "language": "python",
   "name": "python3"
  },
  "language_info": {
   "codemirror_mode": {
    "name": "ipython",
    "version": 3
   },
   "file_extension": ".py",
   "mimetype": "text/x-python",
   "name": "python",
   "nbconvert_exporter": "python",
   "pygments_lexer": "ipython3",
   "version": "3.7.0"
  }
 },
 "nbformat": 4,
 "nbformat_minor": 2
}

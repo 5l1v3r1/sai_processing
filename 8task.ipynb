{
 "cells": [
  {
   "cell_type": "code",
   "execution_count": 1,
   "metadata": {},
   "outputs": [],
   "source": [
    "from __future__ import print_function\n",
    "from ipywidgets import interact, interactive, fixed, interact_manual\n",
    "import ipywidgets as widgets\n",
    "import numpy as np\n",
    "import matplotlib.pyplot as plt\n",
    "import cv2 as cv"
   ]
  },
  {
   "cell_type": "markdown",
   "metadata": {},
   "source": [
    "<h1>HoughCircles</h1>"
   ]
  },
  {
   "cell_type": "code",
   "execution_count": 2,
   "metadata": {},
   "outputs": [
    {
     "data": {
      "application/vnd.jupyter.widget-view+json": {
       "model_id": "30a1eb6f6333402d8c45c15b15d1611c",
       "version_major": 2,
       "version_minor": 0
      },
      "text/plain": [
       "interactive(children=(FloatSlider(value=137.5, description='canny', max=255.0, min=20.0), FloatSlider(value=60…"
      ]
     },
     "metadata": {},
     "output_type": "display_data"
    }
   ],
   "source": [
    "#src = cv.imread('/Users/kolsha/Pictures/i_m_pumpkin_rick__stencil_by_batnamz-dbrxwip.png')\n",
    "src = cv.imread('/Users/kolsha/Pictures/GiK31Q8XgQI.jpg')\n",
    "src_gray = cv.cvtColor(src, cv.COLOR_BGR2GRAY)\n",
    "src_gray = cv.medianBlur(src_gray, 5)\n",
    "src = cv.cvtColor(src, cv.COLOR_BGR2RGB)\n",
    "\n",
    "rows = src_gray.shape[0]\n",
    "\n",
    "# (64.3, 44.425, 51, 126, 198)\n",
    "\n",
    "@interact_manual(canny=(20.0, 255.0), min_dist=(rows / 16, rows / 6), threshold=(1, 255),\n",
    "         min_radius = (0, rows),  max_radius = (-1, rows))\n",
    "def hough_circles(canny, min_dist, threshold, min_radius, max_radius):\n",
    "    \n",
    "    circles = cv.HoughCircles(src_gray, cv.HOUGH_GRADIENT, 1, min_dist,\n",
    "                               param1=canny, param2=threshold,\n",
    "                               minRadius=min_radius, maxRadius=max_radius)\n",
    "    std_dst = np.copy(src)\n",
    "    if circles is not None:\n",
    "        circles = np.uint16(np.around(circles))\n",
    "        for i in circles[0, :]:\n",
    "            center = (i[0], i[1])\n",
    "            color = (np.random.randint(255), np.random.randint(255), np.random.randint(255))\n",
    "            # circle center\n",
    "            cv.circle(std_dst, center, 1, color, 3)\n",
    "            # circle outline\n",
    "            radius = i[2]\n",
    "            \n",
    "            cv.circle(std_dst, center, radius, color, 3)\n",
    "    \n",
    "    titles = ['Original Image','hough_circles']\n",
    "    images = [src, std_dst]\n",
    "    fig = plt.gcf()\n",
    "    fig.set_size_inches(20, 15.5)\n",
    "    for i in range(len(images)):\n",
    "        plt.subplot(2, 3, i+1),\n",
    "        plt.imshow(images[i])\n",
    "        plt.title(titles[i])\n",
    "        plt.xticks([]),\n",
    "        plt.yticks([])\n",
    "    plt.show()\n",
    "    # \n",
    "    return (canny, min_dist, threshold, min_radius, max_radius)\n",
    "    \n",
    "    \n",
    "    \n",
    "    "
   ]
  },
  {
   "cell_type": "code",
   "execution_count": null,
   "metadata": {},
   "outputs": [],
   "source": []
  }
 ],
 "metadata": {
  "kernelspec": {
   "display_name": "Python 3",
   "language": "python",
   "name": "python3"
  },
  "language_info": {
   "codemirror_mode": {
    "name": "ipython",
    "version": 3
   },
   "file_extension": ".py",
   "mimetype": "text/x-python",
   "name": "python",
   "nbconvert_exporter": "python",
   "pygments_lexer": "ipython3",
   "version": "3.7.0"
  }
 },
 "nbformat": 4,
 "nbformat_minor": 2
}

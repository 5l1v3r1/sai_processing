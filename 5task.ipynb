{
 "cells": [
  {
   "cell_type": "code",
   "execution_count": 1,
   "metadata": {},
   "outputs": [],
   "source": [
    "from __future__ import print_function\n",
    "from ipywidgets import interact, interactive, fixed, interact_manual\n",
    "import ipywidgets as widgets\n",
    "import numpy as np\n",
    "import matplotlib.pyplot as plt\n",
    "import cv2 as cv\n",
    "#https://github.com/opencv/opencv/tree/master/samples/data"
   ]
  },
  {
   "cell_type": "code",
   "execution_count": 3,
   "metadata": {},
   "outputs": [
    {
     "data": {
      "application/vnd.jupyter.widget-view+json": {
       "model_id": "8413f5ecef974802a6bd9aee1a3b30fb",
       "version_major": 2,
       "version_minor": 0
      },
      "text/plain": [
       "interactive(children=(Checkbox(value=False, description='otsu'), FloatSlider(value=127.5, description='thresho…"
      ]
     },
     "metadata": {},
     "output_type": "display_data"
    }
   ],
   "source": [
    "src = cv.imread('/Users/kolsha/Pictures/sudoku.png')\n",
    "src_gray = cv.cvtColor(src, cv.COLOR_BGR2GRAY)\n",
    "\n",
    "thr_types = {'Binary': 0, 'Binary Inverted': 1, 'Threshold Truncated': 2,\n",
    "             'Threshold to Zero': 3, 'Threshold to Zero Inverted': 4,\n",
    "             'ADAPTIVE MEAN': 5,\n",
    "             'ADAPTIVE GAUSSIAN': 6}\n",
    "\n",
    "@interact(otsu=False, threshold_value=(0.0, 255.0), threshold_type = thr_types)\n",
    "def threshholds(otsu, threshold_value, threshold_type):\n",
    "    dst = None\n",
    "    if threshold_type < 5:\n",
    "        if otsu:\n",
    "            threshold_type = threshold_type + cv.THRESH_OTSU\n",
    "        _, dst = cv.threshold(src_gray, threshold_value, 255, threshold_type)\n",
    "    else:\n",
    "        dst = cv.adaptiveThreshold(src_gray, 255, threshold_type - 5, cv.THRESH_BINARY, 11, 2)\n",
    "    #dst =  cv.cvtColor(dst, cv.COLOR_BGR2RGB)\n",
    "    plt.imshow(dst, cmap='gray')\n",
    "    plt.title('my picture')\n",
    "    plt.show()\n",
    "    return (threshold_type)\n",
    "  "
   ]
  },
  {
   "cell_type": "code",
   "execution_count": null,
   "metadata": {},
   "outputs": [],
   "source": []
  },
  {
   "cell_type": "code",
   "execution_count": null,
   "metadata": {},
   "outputs": [],
   "source": []
  }
 ],
 "metadata": {
  "kernelspec": {
   "display_name": "Python 3",
   "language": "python",
   "name": "python3"
  },
  "language_info": {
   "codemirror_mode": {
    "name": "ipython",
    "version": 3
   },
   "file_extension": ".py",
   "mimetype": "text/x-python",
   "name": "python",
   "nbconvert_exporter": "python",
   "pygments_lexer": "ipython3",
   "version": "3.7.0"
  }
 },
 "nbformat": 4,
 "nbformat_minor": 2
}
